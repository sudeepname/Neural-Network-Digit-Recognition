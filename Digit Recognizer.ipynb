{
 "cells": [
  {
   "cell_type": "code",
   "execution_count": 1,
   "metadata": {},
   "outputs": [],
   "source": [
    "import numpy as np\n",
    "import pandas as pd\n",
    "import matplotlib.pyplot as plt"
   ]
  },
  {
   "cell_type": "code",
   "execution_count": 2,
   "metadata": {},
   "outputs": [],
   "source": [
    "train = pd.read_csv('Downloads/train.csv')\n",
    "test = pd.read_csv('Downloads/test.csv')\n",
    "image0 = train.iloc[0,1:]"
   ]
  },
  {
   "cell_type": "code",
   "execution_count": 3,
   "metadata": {},
   "outputs": [],
   "source": [
    "image0 = image0.values.reshape(28,28)"
   ]
  },
  {
   "cell_type": "code",
   "execution_count": 4,
   "metadata": {},
   "outputs": [
    {
     "data": {
      "text/plain": [
       "<matplotlib.image.AxesImage at 0x1e033bcef0>"
      ]
     },
     "execution_count": 4,
     "metadata": {},
     "output_type": "execute_result"
    },
    {
     "data": {
      "image/png": "[encoded data removed]",
      "text/plain": [
       "<Figure size 432x288 with 1 Axes>"
      ]
     },
     "metadata": {},
     "output_type": "display_data"
    }
   ],
   "source": [
    "plt.imshow(image0)"
   ]
  },
  {
   "cell_type": "code",
   "execution_count": 5,
   "metadata": {},
   "outputs": [],
   "source": [
    "x_train = (train.iloc[:,1:].values).astype(\"float\")\n",
    "y_train = (train.iloc[:,0].values).astype(\"int\")\n",
    "x_test = test.values.astype(\"float\")"
   ]
  },
  {
   "cell_type": "code",
   "execution_count": 6,
   "metadata": {},
   "outputs": [],
   "source": [
    "x_train = x_train.reshape(x_train.shape[0],28,28,1)\n",
    "x_test = x_test.reshape(x_test.shape[0],28,28,1)"
   ]
  },
  {
   "cell_type": "code",
   "execution_count": 7,
   "metadata": {},
   "outputs": [
    {
     "name": "stderr",
     "output_type": "stream",
     "text": [
      "E:\\Anaconda\\lib\\site-packages\\h5py\\__init__.py:36: FutureWarning: Conversion of the second argument of issubdtype from `float` to `np.floating` is deprecated. In future, it will be treated as `np.float64 == np.dtype(float).type`.\n",
      "  from ._conv import register_converters as _register_converters\n",
      "Using TensorFlow backend.\n"
     ]
    }
   ],
   "source": [
    "from keras.utils.np_utils import to_categorical\n",
    "from keras.optimizers import Adam ,RMSprop\n",
    "from sklearn.model_selection import train_test_split\n",
    "from keras import  backend as K\n",
    "from keras.preprocessing.image import ImageDataGenerator"
   ]
  },
  {
   "cell_type": "code",
   "execution_count": 8,
   "metadata": {},
   "outputs": [],
   "source": [
    "from keras.models import Sequential,Model\n",
    "from keras.layers import Dense , Dropout , Lambda, Flatten,Input"
   ]
  },
  {
   "cell_type": "code",
   "execution_count": 9,
   "metadata": {},
   "outputs": [],
   "source": [
    "mean_px = x_train.mean().astype(np.float32)\n",
    "std_px = x_train.std().astype(np.float32)\n",
    "\n",
    "def standardize(x): \n",
    "    return (x-mean_px)/std_px "
   ]
  },
  {
   "cell_type": "code",
   "execution_count": 10,
   "metadata": {},
   "outputs": [],
   "source": [
    "y_train = to_categorical(y_train)"
   ]
  },
  {
   "cell_type": "code",
   "execution_count": 14,
   "metadata": {},
   "outputs": [
    {
     "name": "stdout",
     "output_type": "stream",
     "text": [
      "WARNING:tensorflow:From E:\\Anaconda\\lib\\site-packages\\tensorflow\\python\\framework\\op_def_library.py:263: colocate_with (from tensorflow.python.framework.ops) is deprecated and will be removed in a future version.\n",
      "Instructions for updating:\n",
      "Colocations handled automatically by placer.\n"
     ]
    }
   ],
   "source": [
    "model1=Sequential()\n",
    "model1.add(Lambda(standardize,input_shape=(28,28,1)))\n",
    "model1.add(Flatten())\n",
    "model1.add(Dense(10,activation = 'softmax'))"
   ]
  },
  {
   "cell_type": "code",
   "execution_count": 15,
   "metadata": {},
   "outputs": [],
   "source": [
    "#Deep neural network works good on large dataset but as in here there is samll amout of data relativel wats required for a neural net\n",
    "#we will usebelow DataGenerator which generate image of different rotation and size hence multiply the data.\n",
    "gen = ImageDataGenerator()"
   ]
  },
  {
   "cell_type": "code",
   "execution_count": 16,
   "metadata": {},
   "outputs": [],
   "source": [
    "X = x_train\n",
    "y = y_train\n",
    "x_train, x_val, y_train, y_val = train_test_split(x_train, y_train, test_size=0.10, random_state=42)\n",
    "batches = gen.flow(x_train, y_train, batch_size=64)\n",
    "val_batches=gen.flow(x_val, y_val, batch_size=64)"
   ]
  },
  {
   "cell_type": "code",
   "execution_count": 17,
   "metadata": {},
   "outputs": [],
   "source": [
    "model1.compile(optimizer=RMSprop(lr=0.001),\n",
    " loss='categorical_crossentropy',\n",
    " metrics=['accuracy'])"
   ]
  },
  {
   "cell_type": "code",
   "execution_count": 18,
   "metadata": {},
   "outputs": [
    {
     "name": "stdout",
     "output_type": "stream",
     "text": [
      "WARNING:tensorflow:From E:\\Anaconda\\lib\\site-packages\\tensorflow\\python\\ops\\math_ops.py:3066: to_int32 (from tensorflow.python.ops.math_ops) is deprecated and will be removed in a future version.\n",
      "Instructions for updating:\n",
      "Use tf.cast instead.\n",
      "Epoch 1/6\n",
      "37800/37800 [==============================] - 113s 3ms/step - loss: 0.2398 - acc: 0.9342 - val_loss: 0.3295 - val_acc: 0.9121\n",
      "Epoch 2/6\n",
      "37800/37800 [==============================] - 111s 3ms/step - loss: 0.2157 - acc: 0.9418 - val_loss: 0.3477 - val_acc: 0.9128\n",
      "Epoch 3/6\n",
      "37800/37800 [==============================] - 133s 4ms/step - loss: 0.2099 - acc: 0.9437 - val_loss: 0.3674 - val_acc: 0.9077\n",
      "Epoch 4/6\n",
      "37800/37800 [==============================] - 187s 5ms/step - loss: 0.2067 - acc: 0.9448 - val_loss: 0.3801 - val_acc: 0.9050\n",
      "Epoch 5/6\n",
      "37800/37800 [==============================] - 184s 5ms/step - loss: 0.2046 - acc: 0.9458 - val_loss: 0.3998 - val_acc: 0.9057\n",
      "Epoch 6/6\n",
      "37800/37800 [==============================] - 185s 5ms/step - loss: 0.2032 - acc: 0.9463 - val_loss: 0.4050 - val_acc: 0.9032\n"
     ]
    }
   ],
   "source": [
    "history1 = model1.fit_generator(generator = batches , steps_per_epoch = batches.n, epochs = 6, validation_data = val_batches,\n",
    "                               validation_steps = val_batches.n)"
   ]
  },
  {
   "cell_type": "code",
   "execution_count": 19,
   "metadata": {},
   "outputs": [],
   "source": [
    "#here i have added one more layer to improve the accuracy\n",
    "model=Sequential()\n",
    "model.add(Lambda(standardize,input_shape=(28,28,1)))\n",
    "model.add(Flatten())\n",
    "model.add(Dense(64,activation = 'relu'))\n",
    "model.add(Dense(10,activation = 'softmax'))"
   ]
  },
  {
   "cell_type": "code",
   "execution_count": 20,
   "metadata": {},
   "outputs": [],
   "source": [
    "model.compile(optimizer=RMSprop(lr=0.001),\n",
    " loss='categorical_crossentropy',\n",
    " metrics=['accuracy'])"
   ]
  },
  {
   "cell_type": "code",
   "execution_count": 21,
   "metadata": {},
   "outputs": [
    {
     "name": "stdout",
     "output_type": "stream",
     "text": [
      "Epoch 1/6\n",
      "37800/37800 [==============================] - 139s 4ms/step - loss: 0.0207 - acc: 0.9938 - val_loss: 0.2310 - val_acc: 0.9726\n",
      "Epoch 2/6\n",
      "37800/37800 [==============================] - 141s 4ms/step - loss: 0.0010 - acc: 0.9999 - val_loss: 0.2851 - val_acc: 0.9743\n",
      "Epoch 3/6\n",
      "37800/37800 [==============================] - 157s 4ms/step - loss: 8.5959e-04 - acc: 0.9999 - val_loss: 0.2848 - val_acc: 0.9745\n",
      "Epoch 4/6\n",
      "37800/37800 [==============================] - 256s 7ms/step - loss: 8.5293e-04 - acc: 0.9999 - val_loss: 0.2844 - val_acc: 0.9745\n",
      "Epoch 5/6\n",
      "37800/37800 [==============================] - 275s 7ms/step - loss: 8.5959e-04 - acc: 0.9999 - val_loss: 0.2843 - val_acc: 0.9745\n",
      "Epoch 6/6\n",
      "37800/37800 [==============================] - 242s 6ms/step - loss: 8.4627e-04 - acc: 0.9999 - val_loss: 0.2846 - val_acc: 0.9745\n"
     ]
    }
   ],
   "source": [
    "history = model.fit_generator(generator = batches , steps_per_epoch = batches.n, epochs = 6, validation_data = val_batches,\n",
    "                               validation_steps = val_batches.n)"
   ]
  },
  {
   "cell_type": "code",
   "execution_count": 22,
   "metadata": {},
   "outputs": [],
   "source": [
    "predictions = model.predict_classes(x_test, verbose=0)\n",
    "\n",
    "submissions=pd.DataFrame({\"ImageId\": list(range(1,len(predictions)+1)),\n",
    "                         \"Label\": predictions})\n",
    "submissions.to_csv(\"Downloads/DigiReco.csv\", index=False, header=True)"
   ]
  }
 ],
 "metadata": {
  "kernelspec": {
   "display_name": "Python 3",
   "language": "python",
   "name": "python3"
  },
  "language_info": {
   "codemirror_mode": {
    "name": "ipython",
    "version": 3
   },
   "file_extension": ".py",
   "mimetype": "text/x-python",
   "name": "python",
   "nbconvert_exporter": "python",
   "pygments_lexer": "ipython3",
   "version": "3.6.5"
  }
 },
 "nbformat": 4,
 "nbformat_minor": 2
}
